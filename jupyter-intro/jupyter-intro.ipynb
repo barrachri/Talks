{
 "cells": [
  {
   "cell_type": "markdown",
   "metadata": {
    "deletable": true,
    "editable": true,
    "slideshow": {
     "slide_type": "slide"
    }
   },
   "source": [
    "<center> <h1>Jupyter: if you don't use it yet you're doing wrong.</h1>\n",
    "<h3>Christian Barra - PyCon SK 2017</h3>\n",
    "    <img src=\"https://raw.githubusercontent.com/jupyter/design/master/logos/Square%20Logo/squarelogo-greytext-orangebody-greymoons/squarelogo-greytext-orangebody-greymoons.png\" style=\"width: 400px;\"  />\n",
    "<br/>\n",
    "\n",
    "</center>"
   ]
  },
  {
   "cell_type": "markdown",
   "metadata": {
    "deletable": true,
    "editable": true,
    "slideshow": {
     "slide_type": "notes"
    }
   },
   "source": [
    "# Transcript: Title slide\n",
    "\n",
    "Good Afternoon, today I am going to talk about Jupyter."
   ]
  },
  {
   "cell_type": "markdown",
   "metadata": {
    "deletable": true,
    "editable": true,
    "slideshow": {
     "slide_type": "slide"
    }
   },
   "source": [
    "<center><h1>About Me</h1></center>\n",
    "\n",
    "I am a wannabe statistican but I spend most of my time travelling around and organizing conferences.\n",
    "\n",
    "I am from Italy but actually based in Poland.\n",
    "\n",
    "- __Working on a Notebook As A *Super* Service (check https://www.cassiny.io)__\n",
    "- EuroPython organizer (I hope to see you in Rimini!): ep2017.europython.eu\n",
    "- JupyterHub contributor\n",
    "- __In love with education Software&DataCarpentry/Microbit:Polska project__\n",
    "\n",
    "### Do you like education (adults/kids)? ping me!\n",
    "\n",
    "### Interests:\n",
    "- Many"
   ]
  },
  {
   "cell_type": "markdown",
   "metadata": {
    "deletable": true,
    "editable": true,
    "slideshow": {
     "slide_type": "notes"
    }
   },
   "source": [
    "# Transcript: Self\n",
    "\n",
    "A few words about myself: I am a wannabe statistician but I usually get stucked with many other things.\n",
    "I am working on a project called cassiny.io (NaaSS) Notebook As A SuperService.\n",
    "\n",
    "I also really like education, and I started a project called microbitpolska.org, have you tought about having the same here in Slovakia?\n",
    "\n",
    "Ahh.. you are invited to the EuroPython Conference!"
   ]
  },
  {
   "cell_type": "markdown",
   "metadata": {
    "deletable": true,
    "editable": true,
    "slideshow": {
     "slide_type": "slide"
    }
   },
   "source": [
    "<center><h1>What is this talk about?</h1></center>\n",
    "\n",
    "5 points (around 5 minutes for each):\n",
    "\n",
    "- At the beginning there was just IPython\n",
    "- The Jupyter Project and the Big Split\n",
    "- What is Jupyter today\n",
    "- What can you do with Jupyter?\n",
    "- Demo"
   ]
  },
  {
   "cell_type": "markdown",
   "metadata": {
    "deletable": true,
    "editable": true,
    "slideshow": {
     "slide_type": "slide"
    }
   },
   "source": [
    "<center> <h1> At the beginning there was just IPython</h1> </center>"
   ]
  },
  {
   "cell_type": "markdown",
   "metadata": {
    "deletable": true,
    "editable": true,
    "slideshow": {
     "slide_type": "subslide"
    }
   },
   "source": [
    "<img src=\"https://ipython.org/_static/IPy_header.png\"/>\n",
    "\n",
    "<center> <h1> An enhanced interactive Python<br />(aka Python REPL on steroids)</h1> </center>\n",
    "\n",
    "\n",
    "A project starte by Fernando Perez in 2001.\n",
    "\n",
    "You can find the first version of IPython [here](https://gist.github.com/fperez/1579699)"
   ]
  },
  {
   "cell_type": "code",
   "execution_count": null,
   "metadata": {
    "collapsed": true,
    "deletable": true,
    "editable": true,
    "slideshow": {
     "slide_type": "notes"
    }
   },
   "outputs": [],
   "source": [
    "Started more than 15 years ago\n",
    "\n",
    "Fernando is still in charge of the project.\n",
    "\n",
    "The project has grown beyond any expectation."
   ]
  },
  {
   "cell_type": "markdown",
   "metadata": {
    "deletable": true,
    "editable": true,
    "slideshow": {
     "slide_type": "subslide"
    }
   },
   "source": [
    "# An IPython shell\n",
    "\n",
    "![GitHub Logo](ipython.png)\n"
   ]
  },
  {
   "cell_type": "markdown",
   "metadata": {
    "deletable": true,
    "editable": true,
    "slideshow": {
     "slide_type": "subslide"
    }
   },
   "source": [
    "# An IPython shell....inside a JupyterLab terminal\n",
    "\n",
    "![GitHub Logo](ipython-lab.png)"
   ]
  },
  {
   "cell_type": "markdown",
   "metadata": {
    "deletable": true,
    "editable": true,
    "slideshow": {
     "slide_type": "slide"
    }
   },
   "source": [
    "<center> <h1> The Jupyter Project and the <a href=\"https://blog.jupyter.org/2015/04/15/the-big-split/\">Big Split</a></h1>\n",
    "</center>"
   ]
  },
  {
   "cell_type": "markdown",
   "metadata": {
    "deletable": true,
    "editable": true,
    "slideshow": {
     "slide_type": "subslide"
    }
   },
   "source": [
    "Before 2014 was __IPython notebook__, a big monolithic project.\n",
    "- Web Application (the notebook)\n",
    "- Shell\n",
    "- Kernels (Python, Julia, R, ...)\n",
    "- Protocols (to communicate between the notebook and the kernels)\n",
    "\n",
    "The Big Split was announced during [SciPy 2014](https://www.youtube.com/watch?t=258&v=JDrhn0-r9Eg)"
   ]
  },
  {
   "cell_type": "markdown",
   "metadata": {
    "deletable": true,
    "editable": true,
    "slideshow": {
     "slide_type": "subslide"
    }
   },
   "source": [
    "# Why do we call it IPython if you can use R, Julia, Ruby.... ?\n",
    "\n",
    "And this is where __Jupyter__ comes from.\n",
    "\n",
    "__A new agnostic project__ not strictly related to Python (but Python is still a big part of the project)\n",
    "\n",
    "- Jupyter comes from Jupiter\n",
    "- Inspired by __JU__lia __PY__thon and __R__"
   ]
  },
  {
   "cell_type": "markdown",
   "metadata": {
    "deletable": true,
    "editable": true,
    "slideshow": {
     "slide_type": "slide"
    }
   },
   "source": [
    "# What is Jupyter"
   ]
  },
  {
   "cell_type": "markdown",
   "metadata": {
    "deletable": true,
    "editable": true,
    "slideshow": {
     "slide_type": "subslide"
    }
   },
   "source": [
    "when you say __Jupyter__ you generally mean Jupyter notebook but Jupyter is a big hat under which you can find a lot of projects:\n",
    "\n",
    "- Jupyter Notebook\n",
    "- JupyterHub\n",
    "- JupyterLab\n",
    "- nbgrade\n",
    "- Jupyter Dashboard\n",
    "- nbviewer\n",
    "- nbconvert\n",
    "\n",
    "# https://github.com/jupyter"
   ]
  },
  {
   "cell_type": "markdown",
   "metadata": {
    "deletable": true,
    "editable": true,
    "slideshow": {
     "slide_type": "subslide"
    }
   },
   "source": [
    "# So what is IPython right now?\n",
    "\n",
    "- A powerful interactive Python shell\n",
    "- A Jupyter kernel to work with Python code in Jupyter notebook and other interactive frontends (nteract.io or PyCharm for example)"
   ]
  },
  {
   "cell_type": "markdown",
   "metadata": {
    "deletable": true,
    "editable": true,
    "slideshow": {
     "slide_type": "subslide"
    }
   },
   "source": [
    "# The Jupyter notebook\n",
    "__The Jupyter Notebook is an open-source web application__ that allows you to create and share documents that contain live code, equations, visualizations and explanatory text."
   ]
  },
  {
   "cell_type": "markdown",
   "metadata": {
    "deletable": true,
    "editable": true,
    "slideshow": {
     "slide_type": "subslide"
    }
   },
   "source": [
    "<center> <h1>This is a Jupyter Notebook running Python 3 kernel</h1>\n",
    "<img src=\"superboring.png\"/>\n",
    "</center>"
   ]
  },
  {
   "cell_type": "markdown",
   "metadata": {
    "deletable": true,
    "editable": true,
    "slideshow": {
     "slide_type": "subslide"
    }
   },
   "source": [
    "<center>\n",
    "<h1>You put the code inside the cells, press play and get the output.</h1>\n",
    "<h2>and if code is not enough you can also add text (text, markdown, html) inside the cells</h2>\n",
    "<h1>That's it.</h1>\n",
    "</center>"
   ]
  },
  {
   "cell_type": "markdown",
   "metadata": {
    "deletable": true,
    "editable": true,
    "slideshow": {
     "slide_type": "subslide"
    }
   },
   "source": [
    "<center> <h1>This is a Jupyter Notebook running R kernel</h1>\n",
    "<img src=\"superboringR.png\"/>\n",
    "</center>"
   ]
  },
  {
   "cell_type": "markdown",
   "metadata": {
    "deletable": true,
    "editable": true,
    "slideshow": {
     "slide_type": "subslide"
    }
   },
   "source": [
    "<center> <h1>You can use your notebook with different kernels</h1>\n",
    "<img src=\"superboringPythonR.png\"/>\n",
    "</center>"
   ]
  },
  {
   "cell_type": "markdown",
   "metadata": {
    "deletable": true,
    "editable": true,
    "slideshow": {
     "slide_type": "subslide"
    }
   },
   "source": [
    "# So you can use jupyter with many different kernels...."
   ]
  },
  {
   "cell_type": "markdown",
   "metadata": {
    "deletable": true,
    "editable": true,
    "slideshow": {
     "slide_type": "subslide"
    }
   },
   "source": [
    "# Kernels for Jupyter\n",
    "\n",
    "- IPython\n",
    "- IJulia\n",
    "- IRKernel\n",
    "- IHaskell\n",
    "- IRuby\n",
    "- IScala\n",
    "- I*\n",
    "\n",
    "# [more than 40](https://github.com/jupyter/jupyter/wiki/Jupyter-kernels)....and you can write your kernel."
   ]
  },
  {
   "cell_type": "markdown",
   "metadata": {
    "deletable": true,
    "editable": true,
    "slideshow": {
     "slide_type": "slide"
    }
   },
   "source": [
    "# What can you do with Jupyter?"
   ]
  },
  {
   "cell_type": "markdown",
   "metadata": {
    "deletable": true,
    "editable": true,
    "slideshow": {
     "slide_type": "subslide"
    }
   },
   "source": [
    "- Education\n",
    "- Fast prototyping\n",
    "- Data Science (The right way probably)\n",
    "- (reproducible) research\n",
    "- Slides\n",
    "- Books\n",
    "- Blogs\n",
    "\n",
    "# And I probably miss something."
   ]
  },
  {
   "cell_type": "markdown",
   "metadata": {
    "deletable": true,
    "editable": true,
    "slideshow": {
     "slide_type": "subslide"
    }
   },
   "source": [
    "# Education\n",
    "\n",
    "\n",
    "- Software Carpentry and Data Carpentry use Jupyter Notebook\n",
    "- Widely use for online courses related to Python and data science\n",
    "- O'Reilly uses it for its courses"
   ]
  },
  {
   "cell_type": "markdown",
   "metadata": {
    "deletable": true,
    "editable": true,
    "slideshow": {
     "slide_type": "subslide"
    }
   },
   "source": [
    "# Fast prototyping\n",
    "\n",
    "Type your code and press run, that's all.\n",
    "\n",
    "Documentation directly inside the notebook."
   ]
  },
  {
   "cell_type": "markdown",
   "metadata": {
    "deletable": true,
    "editable": true,
    "slideshow": {
     "slide_type": "subslide"
    }
   },
   "source": [
    "<center>\n",
    "<img src=\"help.png\"/>\n",
    "</center>"
   ]
  },
  {
   "cell_type": "markdown",
   "metadata": {
    "deletable": true,
    "editable": true,
    "slideshow": {
     "slide_type": "subslide"
    }
   },
   "source": [
    "# Data Science\n",
    "\n",
    "__Jupyter is the way to do data science with Python__.\n",
    "\n",
    "Well integrated with all the libraries (scikit-learn, pandas, ...) and you can plot inside."
   ]
  },
  {
   "cell_type": "code",
   "execution_count": 18,
   "metadata": {
    "collapsed": false,
    "deletable": true,
    "editable": true,
    "slideshow": {
     "slide_type": "subslide"
    }
   },
   "outputs": [
    {
     "data": {
      "image/png": "[encoded data removed]",
      "text/plain": [
       "<matplotlib.figure.Figure at 0x7ff02511ada0>"
      ]
     },
     "metadata": {},
     "output_type": "display_data"
    }
   ],
   "source": [
    "import matplotlib.pyplot as plt\n",
    "plt.plot([1,2,3,4])\n",
    "plt.ylabel('some numbers')\n",
    "plt.show()"
   ]
  },
  {
   "cell_type": "markdown",
   "metadata": {
    "deletable": true,
    "editable": true,
    "slideshow": {
     "slide_type": "subslide"
    }
   },
   "source": [
    "# Research\n",
    "\n",
    "Have you heard about the __gravitational waves__ ?\n",
    "\n",
    "Guess what they used....\n",
    "[Jupyter Notebook](https://losc.ligo.org/s/events/GW150914/GW150914_tutorial.html)"
   ]
  },
  {
   "cell_type": "markdown",
   "metadata": {
    "deletable": true,
    "editable": true,
    "slideshow": {
     "slide_type": "subslide"
    }
   },
   "source": [
    "# Slides\n",
    "\n",
    "I have made these slides using Jupyter + nbconvert + reveal.js\n",
    "\n",
    "## jupyter nbconvert --to slides pyconsk-talk.ipynb --post serve"
   ]
  },
  {
   "cell_type": "markdown",
   "metadata": {
    "collapsed": true,
    "deletable": true,
    "editable": true,
    "slideshow": {
     "slide_type": "subslide"
    }
   },
   "source": [
    "# Books\n",
    "\n",
    "For example from [Jake Vanderplas](https://github.com/jakevdp/PythonDataScienceHandbook)\n",
    "\n",
    "<center>\n",
    "<img src=\"jvdp.png\"/>\n",
    "</center>\n"
   ]
  },
  {
   "cell_type": "markdown",
   "metadata": {
    "collapsed": true,
    "deletable": true,
    "editable": true,
    "slideshow": {
     "slide_type": "subslide"
    }
   },
   "source": [
    "# Blogs\n",
    "\n",
    "With [Pelican](https://www.dataquest.io/blog/how-to-setup-a-data-science-blog/) and [Nikola](https://getnikola.com/handbook.html#jupyter-ipython-notebook) you can use ipynb (IPython Notebook format) as a file for your blog."
   ]
  },
  {
   "cell_type": "markdown",
   "metadata": {
    "deletable": true,
    "editable": true,
    "slideshow": {
     "slide_type": "subslide"
    }
   },
   "source": [
    "# Some cool stuff\n",
    "\n",
    "- [Github renderes jupyter notebook](https://github.com/blog/1995-github-jupyter-notebooks-3)\n",
    "- [mybinder.org for ephermal notebook](http://mybinder.org)\n",
    "\n",
    "Here you can find all the incubated Jupyter projects:\n",
    "https://github.com/jupyter-incubator\n"
   ]
  },
  {
   "cell_type": "markdown",
   "metadata": {
    "deletable": true,
    "editable": true,
    "slideshow": {
     "slide_type": "subslide"
    }
   },
   "source": [
    "# Where I can find more info?\n",
    "\n",
    "- jupyter.org\n",
    "- PyData meetup and Conference\n",
    "- Python Conferences"
   ]
  },
  {
   "cell_type": "markdown",
   "metadata": {
    "deletable": true,
    "editable": true,
    "slideshow": {
     "slide_type": "slide"
    }
   },
   "source": [
    "# DEMO TIME!\n",
    "\n",
    "## please fasten you seatbelt."
   ]
  },
  {
   "cell_type": "markdown",
   "metadata": {
    "deletable": true,
    "editable": true,
    "slideshow": {
     "slide_type": "subslide"
    }
   },
   "source": [
    "1. Open your terminal\n",
    "2. curl -O https://repo.continuum.io/miniconda/Miniconda3-latest-MacOSX-x86_64.sh\n",
    "3. bash Miniconda3-latest-MacOSX-x86_64.sh\n",
    "4. conda create -n myenv python=3\n",
    "5. source activate myenv\n",
    "6. conda install jupyter\n",
    "7. jupyter-notebook"
   ]
  },
  {
   "cell_type": "markdown",
   "metadata": {
    "deletable": true,
    "editable": true,
    "slideshow": {
     "slide_type": "subslide"
    }
   },
   "source": [
    "# BOOM !\n",
    "\n",
    "# You should see your notebook :-)\n"
   ]
  },
  {
   "cell_type": "markdown",
   "metadata": {
    "deletable": true,
    "editable": true,
    "slideshow": {
     "slide_type": "subslide"
    }
   },
   "source": [
    "# Let's meet the future....\n",
    "\n",
    "1. pip install jupyterlab\n",
    "2. jupyter serverextension enable --py jupyterlab --sys-prefix\n",
    "3. jupyter lab"
   ]
  },
  {
   "cell_type": "markdown",
   "metadata": {
    "deletable": true,
    "editable": true,
    "slideshow": {
     "slide_type": "subslide"
    }
   },
   "source": [
    "# JupyterLab is the evolution of the Jupyter notebook.\n",
    "# Gradually it will become the new frontend."
   ]
  },
  {
   "cell_type": "markdown",
   "metadata": {
    "deletable": true,
    "editable": true,
    "slideshow": {
     "slide_type": "slide"
    }
   },
   "source": [
    "# Questions ?\n",
    "\n",
    "- Github: https://github.com/barrachri\n",
    "- Twitter: @christianbarra\n",
    "- Email: barrachri AT gmail DOT com"
   ]
  }
 ],
 "metadata": {
  "celltoolbar": "Slideshow",
  "kernelspec": {
   "display_name": "Python 3",
   "language": "python",
   "name": "python3"
  },
  "language_info": {
   "codemirror_mode": {
    "name": "ipython",
    "version": 3
   },
   "file_extension": ".py",
   "mimetype": "text/x-python",
   "name": "python",
   "nbconvert_exporter": "python",
   "pygments_lexer": "ipython3",
   "version": "3.5.2"
  },
  "livereveal": {
   "height": "800",
   "scroll": true,
   "theme": "sky",
   "width": "1280"
  },
  "toc": {
   "navigate_menu": true,
   "number_sections": true,
   "sideBar": true,
   "threshold": 6,
   "toc_cell": true,
   "toc_section_display": "block",
   "toc_window_display": true
  },
  "widgets": {
   "state": {},
   "version": "1.1.2"
  }
 },
 "nbformat": 4,
 "nbformat_minor": 0
}
